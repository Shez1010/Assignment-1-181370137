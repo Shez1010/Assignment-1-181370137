{
 "cells": [
  {
   "cell_type": "code",
   "execution_count": 1,
   "id": "f50ada30",
   "metadata": {},
   "outputs": [],
   "source": [
    "name = []\n",
    "height_feet = []\n",
    "height_meter = []\n",
    "weight = []"
   ]
  },
  {
   "cell_type": "code",
   "execution_count": 26,
   "id": "2695c700",
   "metadata": {},
   "outputs": [],
   "source": [
    "def feet_to_meter(height_in_feet):\n",
    "    height_in_meters = height_in_feet * 0.3048\n",
    "    print( height_in_meters)\n",
    "    "
   ]
  },
  {
   "cell_type": "code",
   "execution_count": 36,
   "id": "eee407c9",
   "metadata": {},
   "outputs": [],
   "source": [
    "def calculate_bmi(height_in_meters,weight_in_kg):\n",
    "    bmi = (weight_in_kg /height_in_meters)**2\n",
    "    return round(bmi,2)"
   ]
  },
  {
   "cell_type": "code",
   "execution_count": 37,
   "id": "0009c73c",
   "metadata": {},
   "outputs": [
    {
     "name": "stdout",
     "output_type": "stream",
     "text": [
      "['Ahmad,', 'Zeeshan,', 'Qasim,', 'Usman,', 'Shabbir,', 'Fahad,', 'Ali,', 'Haris,']\n",
      "['81,', '75,', '77,', '72,', '68,', '24,', '90,', '5.9,']\n",
      "['5.9', '5.8', '5.8', '5.6', '5.5', '4', '6', '77']\n"
     ]
    }
   ],
   "source": [
    "def process_file():\n",
    "    filename = open(\"gym.csv\",'r')\n",
    "    List = []\n",
    "    \n",
    "    for line in filename:\n",
    "        number = line.split() \n",
    "        numbers = [str(n) for n in number] \n",
    "        List.append(numbers)\n",
    "        name.clear()\n",
    "        weight.clear()\n",
    "        height_feet.clear()  \n",
    "    i = 1\n",
    "    while(len(List)!=i):\n",
    "        name.append(List[i][0])\n",
    "        weight.append(List[i][1])\n",
    "        height_feet.append(List[i][2])\n",
    "        i+= 1\n",
    "    print(name)\n",
    "    print(weight)\n",
    "    print(height_feet)    \n",
    "process_file()"
   ]
  },
  {
   "cell_type": "code",
   "execution_count": 38,
   "id": "986978f6",
   "metadata": {},
   "outputs": [
    {
     "name": "stdout",
     "output_type": "stream",
     "text": [
      "5.9\n",
      "5.8\n",
      "5.8\n",
      "5.6\n",
      "5.5\n",
      "4\n",
      "6\n",
      "77\n"
     ]
    }
   ],
   "source": [
    "for i in range(len(height_feet)):\n",
    "    print(height_feet[i])"
   ]
  },
  {
   "cell_type": "code",
   "execution_count": 40,
   "id": "1f1cb758",
   "metadata": {},
   "outputs": [],
   "source": [
    "def write_to_file(name):\n",
    "    \n",
    "    strnames= str(name)\n",
    "#     strbmi  = str(bmi)\n",
    "    \n",
    "    file = open(\"bmi-output.txt\", \"a\")\n",
    "    file.truncate(0)\n",
    "    file.write(strnames)\n",
    "    file.close()\n",
    "write_to_file(name)"
   ]
  }
 ],
 "metadata": {
  "kernelspec": {
   "display_name": "Python 3",
   "language": "python",
   "name": "python3"
  },
  "language_info": {
   "codemirror_mode": {
    "name": "ipython",
    "version": 3
   },
   "file_extension": ".py",
   "mimetype": "text/x-python",
   "name": "python",
   "nbconvert_exporter": "python",
   "pygments_lexer": "ipython3",
   "version": "3.8.8"
  }
 },
 "nbformat": 4,
 "nbformat_minor": 5
}
