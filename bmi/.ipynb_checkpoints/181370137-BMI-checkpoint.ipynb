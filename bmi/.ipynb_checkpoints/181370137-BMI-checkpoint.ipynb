{
 "cells": [
  {
   "cell_type": "code",
   "execution_count": 1,
   "id": "f50ada30",
   "metadata": {},
   "outputs": [],
   "source": [
    "name = []\n",
    "height_feet = []\n",
    "height_meter = []\n",
    "weight = []"
   ]
  },
  {
   "cell_type": "code",
   "execution_count": 2,
   "id": "2695c700",
   "metadata": {},
   "outputs": [],
   "source": [
    "def feet_to_meter(height_in_feet):\n",
    "    height_in_meters = height_in_feet * 0.3048\n",
    "    print( height_in_meters)\n",
    "    "
   ]
  },
  {
   "cell_type": "code",
   "execution_count": 3,
   "id": "eee407c9",
   "metadata": {},
   "outputs": [],
   "source": [
    "def calculate_bmi(height_in_meters,weight_in_kg):\n",
    "    bmi = (weight_in_kg /height_in_meters)**2\n",
    "    return round(bmi,2)"
   ]
  },
  {
   "cell_type": "code",
   "execution_count": null,
   "id": "0009c73c",
   "metadata": {},
   "outputs": [],
   "source": []
  }
 ],
 "metadata": {
  "kernelspec": {
   "display_name": "Python 3",
   "language": "python",
   "name": "python3"
  },
  "language_info": {
   "codemirror_mode": {
    "name": "ipython",
    "version": 3
   },
   "file_extension": ".py",
   "mimetype": "text/x-python",
   "name": "python",
   "nbconvert_exporter": "python",
   "pygments_lexer": "ipython3",
   "version": "3.8.8"
  }
 },
 "nbformat": 4,
 "nbformat_minor": 5
}
