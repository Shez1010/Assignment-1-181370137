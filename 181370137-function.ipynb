{
 "cells": [
  {
   "cell_type": "code",
   "execution_count": 1,
   "metadata": {
    "id": "UqJieDv00_Gp"
   },
   "outputs": [],
   "source": [
    "def manhattan_distance(x1 , x2 ,y1 ,y2):\n",
    "   a  = (x1 - x2)\n",
    "   b = (y1 - y2)\n",
    "   c = a+b\n",
    "   return c \n",
    "   \n",
    "\n"
   ]
  },
  {
   "cell_type": "code",
   "execution_count": 2,
   "metadata": {
    "colab": {
     "base_uri": "https://localhost:8080/"
    },
    "id": "Y2KhmUyk3R-4",
    "outputId": "0e930f4b-5014-43fd-ee6d-944e1ad5e02a"
   },
   "outputs": [
    {
     "data": {
      "text/plain": [
       "-4"
      ]
     },
     "execution_count": 2,
     "metadata": {
      "tags": []
     },
     "output_type": "execute_result"
    }
   ],
   "source": [
    "manhattan_distance(2, 4, 6, 8)"
   ]
  },
  {
   "cell_type": "code",
   "execution_count": 2,
   "metadata": {
    "id": "JK4Q7ipA3-AN"
   },
   "outputs": [],
   "source": [
    "import math\n",
    "def euclidian_distance(x2, x1, y2, y1):\n",
    "  a = (x2 - x1)**2\n",
    "  b = (y2 - y1)**2\n",
    "  c =  math.sqrt(a+b)\n",
    "  print(c)\n"
   ]
  },
  {
   "cell_type": "code",
   "execution_count": 6,
   "metadata": {
    "colab": {
     "base_uri": "https://localhost:8080/"
    },
    "id": "ZDy7KZ295WeR",
    "outputId": "c09bffa4-a1b7-4a47-9b09-729dd82f3a6f"
   },
   "outputs": [
    {
     "name": "stdout",
     "output_type": "stream",
     "text": [
      "2.8284271247461903\n"
     ]
    }
   ],
   "source": [
    " euclidian_distance(3, 5, 7, 9 )"
   ]
  },
  {
   "cell_type": "code",
   "execution_count": 3,
   "metadata": {
    "id": "nUftNxg35isU"
   },
   "outputs": [],
   "source": [
    "def is_pangram(string_sentence):\n",
    "  string_sentence = \"The quick brown fox jumps over the lazy dog \"\n",
    "  if 'a' in string_sentence and 'b' in string_sentence and 'c' in string_sentence and 'd' in string_sentence and 'e' in string_sentence and 'f' in string_sentence and 'g' in string_sentence and 'h' in string_sentence and 'i' in string_sentence and 'j' in string_sentence and 'k' in string_sentence and 'l' in string_sentence and 'm' in string_sentence and 'n' in string_sentence and 'o' in string_sentence and 'p' in string_sentence and 'q' in string_sentence and 'r' in string_sentence and 's' in string_sentence and 't' in string_sentence and 'u' in string_sentence and 'v' in  string_sentence and 'w' in string_sentence and 'x' in string_sentence and 'y' in string_sentence and 'z' :\n",
    "    print(\"This is pangram :) \")\n",
    "  else :\n",
    "    print(\"this is notpangram sentence\")\n",
    "\n",
    "\n",
    " "
   ]
  },
  {
   "cell_type": "code",
   "execution_count": 12,
   "metadata": {
    "colab": {
     "base_uri": "https://localhost:8080/"
    },
    "id": "b9Ip8Et3-Gwe",
    "outputId": "0c6719e4-809f-40db-ca60-6794c7ebecd8"
   },
   "outputs": [
    {
     "name": "stdout",
     "output_type": "stream",
     "text": [
      "This is pangram :) \n"
     ]
    }
   ],
   "source": [
    "is_pangram(\"The quick brown fox jumps over the lazy dog \")"
   ]
  },
  {
   "cell_type": "code",
   "execution_count": 4,
   "metadata": {
    "id": "TfYwhzW7A5-g"
   },
   "outputs": [
    {
     "name": "stdout",
     "output_type": "stream",
     "text": [
      "Enter balance :12.3\n",
      "Annual Intrest  Rate :23.2\n",
      "0.2378\n",
      "None\n"
     ]
    }
   ],
   "source": [
    "import financemodule as fm\n",
    "blnc = float(input(\"Enter balance :\"))\n",
    "annualIntrestRate = float(input(\"Annual Intrest  Rate :\"))\n",
    "method1 = fm.interest_monthly(blnc,annualIntrestRate)\n",
    "print(method1)\n",
    "    \n"
   ]
  },
  {
   "cell_type": "code",
   "execution_count": 5,
   "metadata": {},
   "outputs": [
    {
     "name": "stdout",
     "output_type": "stream",
     "text": [
      "Enter investment_amount 123.1\n",
      "Enter monthly_interest_rate13.43\n",
      "Enter no_of_years12\n",
      "1.204024355507655e+17\n",
      "None\n"
     ]
    }
   ],
   "source": [
    "value1 = float(input(\"Enter investment_amount \"))\n",
    "value2 = float(input(\"Enter monthly_interest_rate\"))\n",
    "value3 = int(input(\"Enter no_of_years\"))\n",
    "method2 = fm.future_investment_value(value1,value2,value3)\n",
    "print(method2)"
   ]
  },
  {
   "cell_type": "code",
   "execution_count": null,
   "metadata": {},
   "outputs": [],
   "source": []
  }
 ],
 "metadata": {
  "colab": {
   "name": "Untitled1.ipynb",
   "provenance": []
  },
  "kernelspec": {
   "display_name": "Python 3",
   "language": "python",
   "name": "python3"
  },
  "language_info": {
   "codemirror_mode": {
    "name": "ipython",
    "version": 3
   },
   "file_extension": ".py",
   "mimetype": "text/x-python",
   "name": "python",
   "nbconvert_exporter": "python",
   "pygments_lexer": "ipython3",
   "version": "3.8.8"
  }
 },
 "nbformat": 4,
 "nbformat_minor": 1
}
