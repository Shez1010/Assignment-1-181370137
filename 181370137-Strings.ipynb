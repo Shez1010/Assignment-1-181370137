{
 "cells": [
  {
   "cell_type": "code",
   "execution_count": null,
   "id": "eec19d57",
   "metadata": {},
   "outputs": [],
   "source": [
    "a. Print ,"
   ]
  },
  {
   "cell_type": "code",
   "execution_count": null,
   "id": "afa78546",
   "metadata": {},
   "outputs": [],
   "source": [
    "String = \"Hum honge kamyab, hum honge kamyab aik din\"\n",
    "print(String)"
   ]
  },
  {
   "cell_type": "code",
   "execution_count": null,
   "id": "a0fda9e1",
   "metadata": {},
   "outputs": [],
   "source": [
    "b. Print substring ‘aik din’"
   ]
  },
  {
   "cell_type": "code",
   "execution_count": null,
   "id": "fbcb4a48",
   "metadata": {},
   "outputs": [],
   "source": [
    "String = \"Hum honge kamyab, hum honge kamyab aik din\"\n",
    "print(String[35:42])"
   ]
  },
  {
   "cell_type": "code",
   "execution_count": null,
   "id": "9b7532c6",
   "metadata": {},
   "outputs": [],
   "source": [
    "Print ‘honge kamyab’"
   ]
  },
  {
   "cell_type": "code",
   "execution_count": null,
   "id": "da10080d",
   "metadata": {},
   "outputs": [],
   "source": [
    "String = \"Hum honge kamyab, hum honge kamyab aik din\"\n",
    "print(String[4:16])"
   ]
  },
  {
   "cell_type": "code",
   "execution_count": null,
   "id": "cc3bc701",
   "metadata": {},
   "outputs": [],
   "source": [
    "d. Find and print the index of ‘hum’"
   ]
  },
  {
   "cell_type": "code",
   "execution_count": null,
   "id": "4c9cfb85",
   "metadata": {},
   "outputs": [],
   "source": [
    "String = \"Hum honge kamyab, hum honge kamyab aik din\"\n",
    "print(String.index(\"hum\"))"
   ]
  },
  {
   "cell_type": "code",
   "execution_count": null,
   "id": "c54e1025",
   "metadata": {},
   "outputs": [],
   "source": [
    "e. Prints the number of occurrences of hum"
   ]
  },
  {
   "cell_type": "code",
   "execution_count": null,
   "id": "b1b8090a",
   "metadata": {},
   "outputs": [],
   "source": [
    "String = \"Hum honge kamyab, hum honge kamyab aik din\"\n",
    "print(String.count(\"hum\"))"
   ]
  },
  {
   "cell_type": "code",
   "execution_count": null,
   "id": "6761816c",
   "metadata": {},
   "outputs": [],
   "source": [
    "f. Checks the membership of “LALALA”"
   ]
  },
  {
   "cell_type": "code",
   "execution_count": null,
   "id": "42321e9e",
   "metadata": {},
   "outputs": [],
   "source": [
    "String = \"Hum honge kamyab, hum honge kamyab aik din\"\n",
    "word   = input(\"Enter input 'LALALA' \")\n",
    "\n",
    "if word in String\n",
    ":\n",
    "        print(\"true\")\n",
    "else:\n",
    "        print (\"false\")\n",
    "            \n",
    "               "
   ]
  },
  {
   "cell_type": "code",
   "execution_count": null,
   "id": "a159fe10",
   "metadata": {},
   "outputs": [],
   "source": [
    "g. Checks the membership of “,”\n",
    "\n"
   ]
  },
  {
   "cell_type": "code",
   "execution_count": null,
   "id": "6242a248",
   "metadata": {},
   "outputs": [],
   "source": [
    "String = \"Hum honge kamyab, hum honge kamyab aik din\"\n",
    "comma = input(\"Enter comma \")\n",
    "\n",
    "if comma in String:\n",
    "    print(\"true\")\n",
    "else :\n",
    "    print(\"false\")\n"
   ]
  },
  {
   "cell_type": "code",
   "execution_count": null,
   "id": "bb8a5092",
   "metadata": {},
   "outputs": [],
   "source": [
    "h. Checks if “KAMYAB” not present in String."
   ]
  },
  {
   "cell_type": "code",
   "execution_count": null,
   "id": "47634950",
   "metadata": {},
   "outputs": [],
   "source": [
    "if \"KAMYAB\" in String:\n",
    "    print(\"present\")\n",
    "else:\n",
    "    print(\"false\")"
   ]
  },
  {
   "cell_type": "code",
   "execution_count": null,
   "id": "b252a95e",
   "metadata": {},
   "outputs": [],
   "source": [
    "i. Prints ‘aik din’"
   ]
  },
  {
   "cell_type": "code",
   "execution_count": null,
   "id": "33cdf946",
   "metadata": {},
   "outputs": [],
   "source": [
    "print(String[35:42])\n"
   ]
  },
  {
   "cell_type": "code",
   "execution_count": null,
   "id": "16922a0d",
   "metadata": {},
   "outputs": [],
   "source": [
    "j. Prints ‘kamyab’ using negative indexes."
   ]
  },
  {
   "cell_type": "code",
   "execution_count": 3,
   "id": "ae19057d",
   "metadata": {},
   "outputs": [
    {
     "name": "stdout",
     "output_type": "stream",
     "text": [
      "kamyab\n"
     ]
    }
   ],
   "source": [
    "String = \"Hum honge kamyab, hum honge kamyab aik din\"\n",
    "print(String[-14:-8])"
   ]
  },
  {
   "cell_type": "code",
   "execution_count": null,
   "id": "35606b67",
   "metadata": {},
   "outputs": [],
   "source": [
    "2. Consider the string\n",
    "Message = “Boom: SanDisk just dropped the world’s largest SD card”"
   ]
  },
  {
   "cell_type": "code",
   "execution_count": 13,
   "id": "a3a559dd",
   "metadata": {},
   "outputs": [
    {
     "name": "stdout",
     "output_type": "stream",
     "text": [
      "Boom: SanDisk just dropped the world’s largest SD card\n"
     ]
    }
   ],
   "source": [
    "Message =  \"Boom: SanDisk just dropped the world’s largest SD card\"\n",
    "a=Message\n",
    "copyMessage = a\n",
    "print(copyMessage)\n",
    "    "
   ]
  },
  {
   "cell_type": "code",
   "execution_count": 15,
   "id": "dff5bb40",
   "metadata": {},
   "outputs": [
    {
     "data": {
      "text/plain": [
       "7"
      ]
     },
     "execution_count": 15,
     "metadata": {},
     "output_type": "execute_result"
    }
   ],
   "source": [
    "\n"
   ]
  },
  {
   "cell_type": "code",
   "execution_count": null,
   "id": "9abd3d5f",
   "metadata": {},
   "outputs": [],
   "source": []
  }
 ],
 "metadata": {
  "kernelspec": {
   "display_name": "Python 3",
   "language": "python",
   "name": "python3"
  },
  "language_info": {
   "codemirror_mode": {
    "name": "ipython",
    "version": 3
   },
   "file_extension": ".py",
   "mimetype": "text/x-python",
   "name": "python",
   "nbconvert_exporter": "python",
   "pygments_lexer": "ipython3",
   "version": "3.8.8"
  }
 },
 "nbformat": 4,
 "nbformat_minor": 5
}
